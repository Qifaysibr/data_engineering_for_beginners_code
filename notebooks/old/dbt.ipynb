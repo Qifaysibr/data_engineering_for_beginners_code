{
 "cells": [
  {
   "cell_type": "code",
   "execution_count": null,
   "id": "60e475f3-429d-4b9d-b4a4-e09c3ebbfab2",
   "metadata": {
    "scrolled": true
   },
   "outputs": [],
   "source": [
    "! pip install dbt-core dbt-spark \"dbt-spark[session]\""
   ]
  },
  {
   "cell_type": "code",
   "execution_count": 13,
   "id": "da817042-3402-45ba-83a2-ec37f17a8b4e",
   "metadata": {},
   "outputs": [
    {
     "data": {
      "text/html": [
       "\n",
       "            <div>\n",
       "                <p><b>SparkSession - in-memory</b></p>\n",
       "                \n",
       "        <div>\n",
       "            <p><b>SparkContext</b></p>\n",
       "\n",
       "            <p><a href=\"http://b42ee3b01913:4041\">Spark UI</a></p>\n",
       "\n",
       "            <dl>\n",
       "              <dt>Version</dt>\n",
       "                <dd><code>v3.5.5</code></dd>\n",
       "              <dt>Master</dt>\n",
       "                <dd><code>local[*]</code></dd>\n",
       "              <dt>AppName</dt>\n",
       "                <dd><code>PySparkShell</code></dd>\n",
       "            </dl>\n",
       "        </div>\n",
       "        \n",
       "            </div>\n",
       "        "
      ],
      "text/plain": [
       "<pyspark.sql.session.SparkSession at 0x707e121f3a90>"
      ]
     },
     "execution_count": 13,
     "metadata": {},
     "output_type": "execute_result"
    }
   ],
   "source": [
    "spark"
   ]
  },
  {
   "cell_type": "code",
   "execution_count": 15,
   "id": "ac69320f-5e9d-4abb-9b8d-68f019741bfc",
   "metadata": {},
   "outputs": [
    {
     "data": {
      "text/html": [
       "<table>\n",
       "    <thead>\n",
       "        <tr>\n",
       "            <th>namespace</th>\n",
       "        </tr>\n",
       "    </thead>\n",
       "    <tbody>\n",
       "    </tbody>\n",
       "</table>"
      ],
      "text/plain": [
       "+-----------+\n",
       "| namespace |\n",
       "+-----------+\n",
       "+-----------+"
      ]
     },
     "execution_count": 15,
     "metadata": {},
     "output_type": "execute_result"
    }
   ],
   "source": [
    "%%sql\n",
    "show schemas"
   ]
  },
  {
   "cell_type": "code",
   "execution_count": 17,
   "id": "8f4756b8-11bb-41a1-a932-551953938259",
   "metadata": {},
   "outputs": [
    {
     "data": {
      "text/html": [
       "<table>\n",
       "    <thead>\n",
       "        <tr>\n",
       "        </tr>\n",
       "    </thead>\n",
       "    <tbody>\n",
       "    </tbody>\n",
       "</table>"
      ],
      "text/plain": [
       "++\n",
       "||\n",
       "++\n",
       "++"
      ]
     },
     "execution_count": 17,
     "metadata": {},
     "output_type": "execute_result"
    }
   ],
   "source": [
    "%%sql\n",
    "create schema test"
   ]
  },
  {
   "cell_type": "code",
   "execution_count": null,
   "id": "a2117e66-bf9c-46c0-9efa-6ffd53c56b2a",
   "metadata": {},
   "outputs": [],
   "source": [
    "# ! dbt init tpch_analytics"
   ]
  },
  {
   "cell_type": "code",
   "execution_count": null,
   "id": "950b9164-1a3f-4c79-8024-b4dfa0b3839b",
   "metadata": {},
   "outputs": [],
   "source": [
    "pip install dbt-core dbt-spark \"dbt-spark[PyHive]\" \"dbt-spark[session]\" "
   ]
  }
 ],
 "metadata": {
  "kernelspec": {
   "display_name": "Python 3 (ipykernel)",
   "language": "python",
   "name": "python3"
  },
  "language_info": {
   "codemirror_mode": {
    "name": "ipython",
    "version": 3
   },
   "file_extension": ".py",
   "mimetype": "text/x-python",
   "name": "python",
   "nbconvert_exporter": "python",
   "pygments_lexer": "ipython3",
   "version": "3.10.16"
  }
 },
 "nbformat": 4,
 "nbformat_minor": 5
}
