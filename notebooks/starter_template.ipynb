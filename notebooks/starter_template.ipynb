{
 "cells": [
  {
   "cell_type": "markdown",
   "id": "fdb2f672-344f-4027-8842-a1011438262c",
   "metadata": {},
   "source": [
    "# Setup\n",
    "Run the following command to generate fake data and create Spark SQL tables"
   ]
  },
  {
   "cell_type": "code",
   "execution_count": null,
   "id": "f05040ce-65b7-4904-bef5-875554d58389",
   "metadata": {
    "scrolled": true
   },
   "outputs": [],
   "source": [
    "%%bash\n",
    "python ./generate_data.py\n",
    "python ./run_ddl.py"
   ]
  },
  {
   "cell_type": "markdown",
   "id": "fe91f192-ec9b-409d-8539-70da1f7a74de",
   "metadata": {},
   "source": [
    "Run SQL queries as shown below"
   ]
  },
  {
   "cell_type": "code",
   "execution_count": 1,
   "id": "eac21e85-a8b5-4ea2-93d7-08c616ab6cad",
   "metadata": {},
   "outputs": [
    {
     "name": "stderr",
     "output_type": "stream",
     "text": [
      "25/07/15 23:32:16 WARN SparkSession: Using an existing Spark session; only runtime SQL configurations will take effect.\n"
     ]
    },
    {
     "data": {
      "text/html": [
       "<table>\n",
       "    <thead>\n",
       "        <tr>\n",
       "            <th>1</th>\n",
       "        </tr>\n",
       "    </thead>\n",
       "    <tbody>\n",
       "        <tr>\n",
       "            <td>1</td>\n",
       "        </tr>\n",
       "    </tbody>\n",
       "</table>"
      ],
      "text/plain": [
       "+---+\n",
       "| 1 |\n",
       "+---+\n",
       "| 1 |\n",
       "+---+"
      ]
     },
     "execution_count": 1,
     "metadata": {},
     "output_type": "execute_result"
    }
   ],
   "source": [
    "%%sql --show\n",
    "select 1"
   ]
  },
  {
   "cell_type": "markdown",
   "id": "5b319647-2fc7-4465-86b4-328127bfd905",
   "metadata": {},
   "source": [
    "Run Python code as shown below"
   ]
  },
  {
   "cell_type": "code",
   "execution_count": 2,
   "id": "5943320d-d851-4ac5-8df4-b9cc95101e75",
   "metadata": {},
   "outputs": [
    {
     "name": "stdout",
     "output_type": "stream",
     "text": [
      "This is Python\n"
     ]
    }
   ],
   "source": [
    "print(f'This is Python')"
   ]
  },
  {
   "cell_type": "code",
   "execution_count": null,
   "id": "a1a50fd4-1c8e-4985-8cd1-7a306d11b79e",
   "metadata": {},
   "outputs": [],
   "source": []
  }
 ],
 "metadata": {
  "kernelspec": {
   "display_name": "Python 3 (ipykernel)",
   "language": "python",
   "name": "python3"
  },
  "language_info": {
   "codemirror_mode": {
    "name": "ipython",
    "version": 3
   },
   "file_extension": ".py",
   "mimetype": "text/x-python",
   "name": "python",
   "nbconvert_exporter": "python",
   "pygments_lexer": "ipython3",
   "version": "3.10.16"
  }
 },
 "nbformat": 4,
 "nbformat_minor": 5
}
