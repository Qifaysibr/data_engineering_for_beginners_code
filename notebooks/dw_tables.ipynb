{
 "cells": [
  {
   "cell_type": "markdown",
   "id": "b8a66c6f-7139-4e54-a6c5-64291b8d3e5d",
   "metadata": {},
   "source": [
    "# Setup"
   ]
  },
  {
   "cell_type": "code",
   "execution_count": null,
   "id": "1af1e309-7438-41da-932f-6ed4a07325df",
   "metadata": {
    "scrolled": true
   },
   "outputs": [],
   "source": [
    "%%bash\n",
    "python ./generate_data.py\n",
    "python ./run_ddl.py"
   ]
  },
  {
   "cell_type": "code",
   "execution_count": null,
   "id": "8c8fd9ad-61ea-49fd-b4d5-705a6a7e998c",
   "metadata": {},
   "outputs": [],
   "source": [
    "%%sql --show\n",
    "use prod.db"
   ]
  },
  {
   "cell_type": "markdown",
   "id": "2f471283-9c23-4596-9062-3984b8321515",
   "metadata": {},
   "source": []
  },
  {
   "cell_type": "code",
   "execution_count": null,
   "id": "46811aa9-64a0-4156-bfb9-3ddcadd0cb7d",
   "metadata": {},
   "outputs": [],
   "source": [
    "%%sql\n",
    "SELECT\n",
    "    l_orderkey,\n",
    "    round( sum(l_extendedprice * (1 - l_discount) * (1 + l_tax)),\n",
    "        2\n",
    "    ) AS totalprice\n",
    "FROM\n",
    "    lineitem\n",
    "WHERE\n",
    "    l_orderkey = 1\n",
    "GROUP BY\n",
    "    l_orderkey;\n"
   ]
  },
  {
   "cell_type": "code",
   "execution_count": null,
   "id": "d1db1367-7b21-4630-a359-2a755090e0fd",
   "metadata": {},
   "outputs": [],
   "source": [
    "%%sql\n",
    "\n",
    "-- The totalprice of an order (with orderkey = 1)\n",
    "SELECT\n",
    "    o_orderkey,\n",
    "    o_totalprice\n",
    "FROM\n",
    "    orders\n",
    "WHERE\n",
    "    o_orderkey = 1;\n",
    "\n"
   ]
  },
  {
   "cell_type": "code",
   "execution_count": null,
   "id": "7b32ef42-67c0-4044-b842-2203f242a611",
   "metadata": {
    "scrolled": true
   },
   "outputs": [],
   "source": [
    "%%sql\n",
    "    CREATE TABLE dim_customer AS \n",
    " SELECT \n",
    "        c.*,\n",
    "        n_name AS nation_name,\n",
    "        n_comment AS nation_comment,\n",
    "        r_name AS region_name,\n",
    "        r_comment AS region_comment\n",
    "    FROM customer c\n",
    "    LEFT JOIN nation n ON c_nationkey = n_nationkey\n",
    "    LEFT JOIN region r ON n_regionkey = r_regionkey"
   ]
  },
  {
   "cell_type": "code",
   "execution_count": null,
   "id": "1a9aef59-7142-4349-8a07-9f4ec9f82693",
   "metadata": {},
   "outputs": [],
   "source": [
    "%%sql\n",
    "CREATE TABLE fct_orders as select * from orders"
   ]
  },
  {
   "cell_type": "code",
   "execution_count": null,
   "id": "8634b262-b622-4256-8260-2ec955d50d1e",
   "metadata": {},
   "outputs": [],
   "source": [
    "%%sql\n",
    "CREATE TABLE fct_lineitem as select * from lineitem"
   ]
  },
  {
   "cell_type": "code",
   "execution_count": null,
   "id": "35e88787-1958-4793-b13e-d63a4a3e663d",
   "metadata": {},
   "outputs": [],
   "source": [
    "%%sql\n",
    "create table wide_orders as \n",
    " SELECT \n",
    "        f.*,\n",
    "        d.*\n",
    "    FROM fct_orders f\n",
    "    LEFT JOIN dim_customer d ON f.o_custkey = d.c_custkey"
   ]
  },
  {
   "cell_type": "code",
   "execution_count": null,
   "id": "d9f4977b-1774-4ad9-93af-7333fcd33cfb",
   "metadata": {
    "scrolled": true
   },
   "outputs": [],
   "source": [
    "%%sql\n",
    "create table wide_lineitem as select * from fct_lineitem"
   ]
  },
  {
   "cell_type": "code",
   "execution_count": null,
   "id": "a8badf66-ff29-4cef-a864-bd3378840b9d",
   "metadata": {},
   "outputs": [],
   "source": [
    "%%sql\n",
    "create table order_lineitem_metrics as \n",
    "SELECT \n",
    "        l_orderkey as order_key,\n",
    "        COUNT(l_linenumber) AS num_lineitems\n",
    "    FROM wide_lineitem\n",
    "    GROUP BY l_orderkey"
   ]
  },
  {
   "cell_type": "code",
   "execution_count": null,
   "id": "75215dee-e4ab-4554-943f-2e057f6fa78a",
   "metadata": {},
   "outputs": [],
   "source": [
    "%%sql\n",
    "create table customer_outreach_metrics as \n",
    "SELECT \n",
    "        wo.c_custkey,\n",
    "        wo.c_name AS customer_name,\n",
    "        MIN(wo.o_totalprice) AS min_order_value,\n",
    "        MAX(wo.o_totalprice) AS max_order_value,\n",
    "        AVG(wo.o_totalprice) AS avg_order_value,\n",
    "        AVG(olm.num_lineitems) AS avg_num_items_per_order\n",
    "    FROM wide_orders wo\n",
    "    LEFT JOIN order_lineitem_metrics olm ON wo.o_orderkey = olm.order_key\n",
    "    GROUP BY wo.c_custkey, wo.c_name"
   ]
  },
  {
   "cell_type": "code",
   "execution_count": null,
   "id": "e2dce470-486f-42dc-8509-976bd0551990",
   "metadata": {
    "scrolled": true
   },
   "outputs": [],
   "source": [
    "%%sql --show\n",
    "select *\n",
    "from customer_outreach_metrics"
   ]
  },
  {
   "cell_type": "code",
   "execution_count": null,
   "id": "c6acab81-3a6d-4b20-95ba-ee19076481e7",
   "metadata": {},
   "outputs": [],
   "source": []
  }
 ],
 "metadata": {
  "kernelspec": {
   "display_name": "Python 3 (ipykernel)",
   "language": "python",
   "name": "python3"
  },
  "language_info": {
   "codemirror_mode": {
    "name": "ipython",
    "version": 3
   },
   "file_extension": ".py",
   "mimetype": "text/x-python",
   "name": "python",
   "nbconvert_exporter": "python",
   "pygments_lexer": "ipython3",
   "version": "3.10.16"
  }
 },
 "nbformat": 4,
 "nbformat_minor": 5
}
