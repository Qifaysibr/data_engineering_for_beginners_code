{
 "cells": [
  {
   "cell_type": "markdown",
   "id": "920309e3-27a5-4a97-ad7b-74323a46e979",
   "metadata": {},
   "source": [
    "export AIRFLOW_HOME=/home/iceberg/notebooks/notebooks \n",
    "export AIRFLOW__API__PORT=8082\n",
    "export AIRFLOW__CORE__EXECUTION_API_SERVER_URL=http://localhost:8082\n",
    "\n",
    "AIRFLOW_VERSION=3.0.2\n",
    "PYTHON_VERSION=\"$(python -c 'import sys; print(f\"{sys.version_info.major}.{sys.version_info.minor}\")')\"\n",
    "CONSTRAINT_URL=\"https://raw.githubusercontent.com/apache/airflow/constraints-${AIRFLOW_VERSION}/constraints-${PYTHON_VERSION}.txt\"\n",
    "pip install \"apache-airflow==${AIRFLOW_VERSION}\" --constraint \"${CONSTRAINT_URL}\"\n",
    "airflow standalone\n",
    "\n",
    "\n",
    "export AIRFLOW__CORE__LOAD_EXAMPLES=false\n",
    "https://airflow.apache.org/docs/apache-airflow/stable/start.html#quick-start\n",
    "\n"
   ]
  },
  {
   "cell_type": "code",
   "execution_count": null,
   "id": "ae9bcbde-e740-4fd7-936a-7654879a1590",
   "metadata": {},
   "outputs": [],
   "source": []
  }
 ],
 "metadata": {
  "kernelspec": {
   "display_name": "Python 3 (ipykernel)",
   "language": "python",
   "name": "python3"
  },
  "language_info": {
   "codemirror_mode": {
    "name": "ipython",
    "version": 3
   },
   "file_extension": ".py",
   "mimetype": "text/x-python",
   "name": "python",
   "nbconvert_exporter": "python",
   "pygments_lexer": "ipython3",
   "version": "3.10.16"
  }
 },
 "nbformat": 4,
 "nbformat_minor": 5
}
