{
 "cells": [
  {
   "cell_type": "markdown",
   "id": "e3e6f3c8-7ab9-4a45-9ca0-51d287cd0a97",
   "metadata": {},
   "source": [
    "# Setup"
   ]
  },
  {
   "cell_type": "code",
   "execution_count": 3,
   "id": "ddcba398-211f-49a7-a33c-9b4f71acc161",
   "metadata": {
    "scrolled": true
   },
   "outputs": [],
   "source": [
    "%%capture\n",
    "%%bash\n",
    "python ./generate_data.py\n",
    "python ./run_ddl.py"
   ]
  },
  {
   "cell_type": "markdown",
   "id": "96581a32-0451-4bc8-8291-23a21e474ee5",
   "metadata": {},
   "source": [
    "Run Python code as shown below"
   ]
  },
  {
   "cell_type": "code",
   "execution_count": 5,
   "id": "b5f7c142-768a-4802-a134-1ad0c28dce40",
   "metadata": {},
   "outputs": [],
   "source": [
    "a = 10"
   ]
  },
  {
   "cell_type": "markdown",
   "id": "432da9e5-a5d6-49de-8b36-5bd349ec9014",
   "metadata": {},
   "source": [
    "Run SQL code as shown below, with the `%%sql` called magics"
   ]
  },
  {
   "cell_type": "code",
   "execution_count": 6,
   "id": "e217082d-c053-4c72-a1ea-7898166f748d",
   "metadata": {},
   "outputs": [
    {
     "data": {
      "text/html": [
       "<table>\n",
       "    <thead>\n",
       "        <tr>\n",
       "            <th>1</th>\n",
       "        </tr>\n",
       "    </thead>\n",
       "    <tbody>\n",
       "        <tr>\n",
       "            <td>1</td>\n",
       "        </tr>\n",
       "    </tbody>\n",
       "</table>"
      ],
      "text/plain": [
       "+---+\n",
       "| 1 |\n",
       "+---+\n",
       "| 1 |\n",
       "+---+"
      ]
     },
     "execution_count": 6,
     "metadata": {},
     "output_type": "execute_result"
    }
   ],
   "source": [
    "%%sql\n",
    "select 1"
   ]
  },
  {
   "cell_type": "markdown",
   "id": "b987efe4-9986-43f5-957e-8f996102b444",
   "metadata": {},
   "source": [
    "We use the `prod.db` schema where all our tables are create by `run_ddl.py`"
   ]
  },
  {
   "cell_type": "code",
   "execution_count": 4,
   "id": "1e5e0bf6-530d-448f-b33f-b16b8fa016f1",
   "metadata": {},
   "outputs": [
    {
     "name": "stderr",
     "output_type": "stream",
     "text": [
      "25/07/23 00:50:12 WARN SparkSession: Using an existing Spark session; only runtime SQL configurations will take effect.\n"
     ]
    },
    {
     "data": {
      "text/html": [
       "<table>\n",
       "    <thead>\n",
       "        <tr>\n",
       "        </tr>\n",
       "    </thead>\n",
       "    <tbody>\n",
       "    </tbody>\n",
       "</table>"
      ],
      "text/plain": [
       "++\n",
       "||\n",
       "++\n",
       "++"
      ]
     },
     "execution_count": 4,
     "metadata": {},
     "output_type": "execute_result"
    }
   ],
   "source": [
    "%%sql --show\n",
    "use prod.db"
   ]
  },
  {
   "cell_type": "markdown",
   "id": "460c61dc-fdfc-4bec-b696-aa10385c1b0b",
   "metadata": {},
   "source": [
    "## Your code below"
   ]
  },
  {
   "cell_type": "code",
   "execution_count": null,
   "id": "caecc712-c5ae-4c49-bd16-0c9cd6721c5f",
   "metadata": {},
   "outputs": [],
   "source": []
  }
 ],
 "metadata": {
  "kernelspec": {
   "display_name": "Python 3 (ipykernel)",
   "language": "python",
   "name": "python3"
  },
  "language_info": {
   "codemirror_mode": {
    "name": "ipython",
    "version": 3
   },
   "file_extension": ".py",
   "mimetype": "text/x-python",
   "name": "python",
   "nbconvert_exporter": "python",
   "pygments_lexer": "ipython3",
   "version": "3.10.16"
  }
 },
 "nbformat": 4,
 "nbformat_minor": 5
}
