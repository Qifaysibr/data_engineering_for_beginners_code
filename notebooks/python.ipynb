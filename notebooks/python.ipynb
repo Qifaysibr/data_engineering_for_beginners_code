{
 "cells": [
  {
   "cell_type": "markdown",
   "id": "119c3aae-a6a6-487f-b526-88f8b8ace8be",
   "metadata": {},
   "source": [
    "# Chapter 4"
   ]
  },
  {
   "cell_type": "code",
   "execution_count": null,
   "id": "70673a08-bd7d-4167-ba1c-bcb2ddd9b92b",
   "metadata": {},
   "outputs": [],
   "source": [
    "a = 10\n",
    "b = 20"
   ]
  },
  {
   "cell_type": "code",
   "execution_count": null,
   "id": "bc124d9c-8ce2-4046-a63a-3f878da75a4d",
   "metadata": {},
   "outputs": [],
   "source": [
    "c = a + b\n",
    "print(c)"
   ]
  },
  {
   "cell_type": "code",
   "execution_count": null,
   "id": "3eef7407-d733-472f-a87c-d34f28c0e1c5",
   "metadata": {},
   "outputs": [],
   "source": [
    "s = '  Some string '\n",
    "print(s.strip())"
   ]
  },
  {
   "cell_type": "code",
   "execution_count": null,
   "id": "10a3f9c6-c56b-4b30-95b8-dc4655047164",
   "metadata": {},
   "outputs": [],
   "source": [
    "l = [1, 2, 3, 4]\n",
    "\n",
    "print(l[0])  # Will print 1\n",
    "print(l[3])  # Will print 4"
   ]
  },
  {
   "cell_type": "code",
   "execution_count": null,
   "id": "0b32e07b-a324-45fa-8cba-9d9ba56e083e",
   "metadata": {},
   "outputs": [],
   "source": [
    "d = {'a': 1, 'b': 2}\n",
    "\n",
    "print(d.get('a'))\n",
    "print(d.get('b'))"
   ]
  },
  {
   "cell_type": "code",
   "execution_count": null,
   "id": "68c5c4e5-e9b6-41d5-976e-6709ff2598fd",
   "metadata": {},
   "outputs": [],
   "source": [
    "my_set = set()\n",
    "my_set.add(10)\n",
    "my_set.add(10)\n",
    "my_set.add(10)\n",
    "my_set.add(30)\n",
    "print(my_set)"
   ]
  },
  {
   "cell_type": "code",
   "execution_count": null,
   "id": "a67cb86c-6aa5-432a-8598-a3beced962c5",
   "metadata": {},
   "outputs": [],
   "source": [
    "for i in range(11):\n",
    "    print(i)"
   ]
  },
  {
   "cell_type": "code",
   "execution_count": null,
   "id": "985ea962-6d5f-4be7-b0c4-a5dcef77a684",
   "metadata": {},
   "outputs": [],
   "source": [
    "for elt in l:\n",
    "    print(elt)"
   ]
  },
  {
   "cell_type": "code",
   "execution_count": null,
   "id": "9e947aac-aafe-40c1-b72c-686d4ce8a8bd",
   "metadata": {},
   "outputs": [],
   "source": [
    "for k, v in d.items():\n",
    "    print(f'Key: {k}, Value: {v}')"
   ]
  },
  {
   "cell_type": "code",
   "execution_count": null,
   "id": "1c277bbc-a967-4be7-947e-e6942f4725f8",
   "metadata": {},
   "outputs": [],
   "source": [
    "[elt*2 for elt in l]"
   ]
  },
  {
   "cell_type": "code",
   "execution_count": null,
   "id": "d8e53a4b-7f14-4ef1-a1f6-cfd12ed9fad5",
   "metadata": {},
   "outputs": [],
   "source": [
    "def gt_three(input_list):\n",
    "    return [elt for elt in input_list if elt > 3]\n",
    "\n",
    "list_1 = [1, 2, 3, 4, 5, 6]\n",
    "print(gt_three(list_1))\n",
    "\n",
    "list_2 = [1, 2, 3, 1, 1, 1]\n",
    "print(gt_three(list_2))"
   ]
  },
  {
   "cell_type": "code",
   "execution_count": null,
   "id": "2adb52fc-7b29-448a-a082-591410375e50",
   "metadata": {},
   "outputs": [],
   "source": [
    "class DataExtractor:\n",
    "\n",
    "    def __init__(self, some_value):\n",
    "        self.some_value = some_value\n",
    "\n",
    "    def get_connection(self):\n",
    "        pass\n",
    "\n",
    "    def close_connection(self):\n",
    "        pass\n",
    "\n",
    "de_object = DataExtractor(10)\n",
    "print(de_object.some_value)\n"
   ]
  },
  {
   "cell_type": "code",
   "execution_count": null,
   "id": "157c9400-c23c-45b8-b83f-7c6e7ac5fb8f",
   "metadata": {},
   "outputs": [],
   "source": [
    "from datetime import datetime\n",
    "print(datetime.now().strftime('%Y %m %d'))"
   ]
  },
  {
   "cell_type": "code",
   "execution_count": null,
   "id": "711dd027-3725-4592-91a9-4238dc30130e",
   "metadata": {},
   "outputs": [],
   "source": [
    "l = [1, 2, 3, 4, 5]\n",
    "index = 10\n",
    "try:\n",
    "    element = l[index]\n",
    "    print(f\"Element at index {index} is {element}\")\n",
    "except IndexError:\n",
    "    print(f\"Error: Index {index} is out of range for the list.\")\n",
    "finally:\n",
    "    print(\"Execution completed.\")"
   ]
  },
  {
   "cell_type": "markdown",
   "id": "6a57e7a5-4684-4ee2-872f-24dddce19a89",
   "metadata": {},
   "source": [
    "# Chapter 5"
   ]
  },
  {
   "cell_type": "code",
   "execution_count": null,
   "id": "edadeecf-c25e-457e-9d20-b258a78e1c2d",
   "metadata": {
    "scrolled": true
   },
   "outputs": [],
   "source": [
    "import requests\n",
    "url = \"https://pokeapi.co/api/v2/pokemon/1\"\n",
    "response = requests.get(url)\n",
    "print(response.json())"
   ]
  },
  {
   "cell_type": "code",
   "execution_count": null,
   "id": "670d20f5-5b55-43cd-b114-14c8ad7eb0c4",
   "metadata": {
    "scrolled": true
   },
   "outputs": [],
   "source": [
    "import csv\n",
    "\n",
    "data_location = \"./data/customer.csv\"\n",
    "with open(data_location, \"r\", newline=\"\") as csvfile:\n",
    "    csvreader = csv.reader(csvfile)\n",
    "    next(csvreader)  # Skip header row\n",
    "    for row in csvreader:\n",
    "        print(row)\n",
    "        break"
   ]
  },
  {
   "cell_type": "code",
   "execution_count": null,
   "id": "910f4413-2e78-40e7-86d1-729d773281c0",
   "metadata": {},
   "outputs": [],
   "source": [
    "import requests\n",
    "from bs4 import BeautifulSoup\n",
    "url = 'https://example.com'\n",
    "\n",
    "response = requests.get(url)\n",
    "soup = BeautifulSoup(response.text, 'html.parser')\n",
    "for link in soup.find_all('a'):\n",
    "    print(link.get('href'))\n"
   ]
  },
  {
   "cell_type": "markdown",
   "id": "02db0860-0f7c-4885-8465-3e2952dc1ede",
   "metadata": {},
   "source": [
    "# Chapter 6"
   ]
  },
  {
   "cell_type": "code",
   "execution_count": 29,
   "id": "5e517f9b-753d-43e0-8807-d224bbbb42e6",
   "metadata": {
    "scrolled": true
   },
   "outputs": [
    {
     "name": "stdout",
     "output_type": "stream",
     "text": [
      "################################################################################\n",
      "Use standard python libraries to do the transformations\n",
      "################################################################################\n",
      "[{'Customer_ID': '1', 'Customer_Name': 'Henry Jones', 'Age': '32', 'Gender': 'Male', 'Purchase_Amount': '1080000.66', 'Purchase_Date': '2023-08-15'}, {'Customer_ID': '2', 'Customer_Name': 'Emma Rodriguez', 'Age': '24', 'Gender': 'Male', 'Purchase_Amount': '62.4', 'Purchase_Date': '2024-04-16'}]\n"
     ]
    }
   ],
   "source": [
    "print(\n",
    "    \"################################################################################\"\n",
    ")\n",
    "print(\"Use standard python libraries to do the transformations\")\n",
    "print(\n",
    "    \"################################################################################\"\n",
    ")\n",
    "import csv\n",
    "\n",
    "data = []\n",
    "with open(\"./sample_data.csv\", \"r\", newline=\"\") as csvfile:\n",
    "    reader = csv.DictReader(csvfile)\n",
    "    for row in reader:\n",
    "        data.append(row)\n",
    "print(data[:2])"
   ]
  },
  {
   "cell_type": "code",
   "execution_count": 30,
   "id": "db021929-f9f3-4007-86ea-844af9e6d94d",
   "metadata": {},
   "outputs": [
    {
     "name": "stdout",
     "output_type": "stream",
     "text": [
      "duplicate customer id 84\n",
      "duplicate customer id 85\n",
      "duplicate customer id 86\n",
      "duplicate customer id 87\n",
      "duplicate customer id 88\n",
      "duplicate customer id 89\n",
      "duplicate customer id 90\n",
      "duplicate customer id 91\n"
     ]
    }
   ],
   "source": [
    "data_unique = []\n",
    "customer_ids_seen = set()\n",
    "for row in data:\n",
    "    if row[\"Customer_ID\"] not in customer_ids_seen:\n",
    "        data_unique.append(row)\n",
    "        customer_ids_seen.add(row[\"Customer_ID\"])\n",
    "    else:\n",
    "        print(f'duplicate customer id {row[\"Customer_ID\"]}')\n"
   ]
  },
  {
   "cell_type": "code",
   "execution_count": 31,
   "id": "cec9c1f0-fe54-4f1c-a9a5-4a4ee307491c",
   "metadata": {},
   "outputs": [
    {
     "name": "stdout",
     "output_type": "stream",
     "text": [
      "Customer Alice Johnson does not have Age value\n",
      "Customer Jack Garcia does not have Age value\n"
     ]
    }
   ],
   "source": [
    "for row in data_unique:\n",
    "    if not row[\"Age\"]:\n",
    "        print(f'Customer {row[\"Customer_Name\"]} does not have Age value')\n",
    "        row[\"Age\"] = 0\n",
    "    if not row[\"Purchase_Amount\"]:\n",
    "        row[\"Purchase_Amount\"] = 0.0\n"
   ]
  },
  {
   "cell_type": "code",
   "execution_count": 32,
   "id": "42c90e9f-b36f-42a4-bb74-e5d8a0ec3fd6",
   "metadata": {},
   "outputs": [
    {
     "name": "stdout",
     "output_type": "stream",
     "text": [
      "[{'Customer_ID': '2', 'Customer_Name': 'Emma Rodriguez', 'Age': '24', 'Gender': 1, 'Purchase_Amount': '62.4', 'Purchase_Date': '2024-04-16', 'First_Name': 'Emma', 'Last_Name': 'Rodriguez'}, {'Customer_ID': '3', 'Customer_Name': 'Frank Martinez', 'Age': '20', 'Gender': 0, 'Purchase_Amount': '443.47', 'Purchase_Date': '2024-05-16', 'First_Name': 'Frank', 'Last_Name': 'Martinez'}, {'Customer_ID': '4', 'Customer_Name': 'Alice Rodriguez', 'Age': '62', 'Gender': 0, 'Purchase_Amount': '729.69', 'Purchase_Date': '2024-01-05', 'First_Name': 'Alice', 'Last_Name': 'Rodriguez'}]\n"
     ]
    }
   ],
   "source": [
    "data_cleaned = [\n",
    "    row\n",
    "    for row in data_unique\n",
    "    if int(row[\"Age\"]) <= 100 and float(row[\"Purchase_Amount\"]) <= 1000\n",
    "]\n",
    "\n",
    "for row in data_cleaned:\n",
    "    if row[\"Gender\"] == \"Female\":\n",
    "        row[\"Gender\"] = 0\n",
    "    elif row[\"Gender\"] == \"Male\":\n",
    "        row[\"Gender\"] = 1\n",
    "\n",
    "for row in data_cleaned:\n",
    "    first_name, last_name = row[\"Customer_Name\"].split(\" \", 1)\n",
    "    row[\"First_Name\"] = first_name\n",
    "    row[\"Last_Name\"] = last_name\n",
    "\n",
    "print(data_cleaned[:3])"
   ]
  },
  {
   "cell_type": "code",
   "execution_count": 34,
   "id": "45732dca-4bfc-420e-ac81-ce6d65ffb21d",
   "metadata": {},
   "outputs": [
    {
     "name": "stdout",
     "output_type": "stream",
     "text": [
      "Total purchase amount by Gender: defaultdict(<class 'float'>, {1: 24599.890000000003, 0: 28215.780000000002})\n",
      "Average purchase amount by Age group: {'18-30': 567.9048387096775, '31-40': 555.2423529411764, '41-50': 493.946, '51-60': 494.51882352941175, '61-70': 534.6971428571428}\n"
     ]
    }
   ],
   "source": [
    "from collections import defaultdict\n",
    "total_purchase_by_gender = defaultdict(float)\n",
    "for row in data_cleaned:\n",
    "    total_purchase_by_gender[row[\"Gender\"]] += float(row[\"Purchase_Amount\"])\n",
    "\n",
    "age_groups = {\"18-30\": [], \"31-40\": [], \"41-50\": [], \"51-60\": [], \"61-70\": []}\n",
    "for row in data_cleaned:\n",
    "    age = int(row[\"Age\"])\n",
    "    if age <= 30:\n",
    "        age_groups[\"18-30\"].append(float(row[\"Purchase_Amount\"]))\n",
    "    elif age <= 40:\n",
    "        age_groups[\"31-40\"].append(float(row[\"Purchase_Amount\"]))\n",
    "    elif age <= 50:\n",
    "        age_groups[\"41-50\"].append(float(row[\"Purchase_Amount\"]))\n",
    "    elif age <= 60:\n",
    "        age_groups[\"51-60\"].append(float(row[\"Purchase_Amount\"]))\n",
    "    else:\n",
    "        age_groups[\"61-70\"].append(float(row[\"Purchase_Amount\"]))\n",
    "\n",
    "average_purchase_by_age_group = {\n",
    "    group: sum(amounts) / len(amounts) for group, amounts in age_groups.items()\n",
    "}\n",
    "\n",
    "print(\"Total purchase amount by Gender:\", total_purchase_by_gender)\n",
    "print(\"Average purchase amount by Age group:\", average_purchase_by_age_group)"
   ]
  },
  {
   "cell_type": "code",
   "execution_count": 36,
   "id": "c1c4aa72-910e-4506-9668-a46009b19de8",
   "metadata": {},
   "outputs": [
    {
     "data": {
      "text/html": [
       "\n",
       "            <div>\n",
       "                <p><b>SparkSession - in-memory</b></p>\n",
       "                \n",
       "        <div>\n",
       "            <p><b>SparkContext</b></p>\n",
       "\n",
       "            <p><a href=\"http://dce87e9f27f0:4045\">Spark UI</a></p>\n",
       "\n",
       "            <dl>\n",
       "              <dt>Version</dt>\n",
       "                <dd><code>v3.5.5</code></dd>\n",
       "              <dt>Master</dt>\n",
       "                <dd><code>local[*]</code></dd>\n",
       "              <dt>AppName</dt>\n",
       "                <dd><code>PySparkShell</code></dd>\n",
       "            </dl>\n",
       "        </div>\n",
       "        \n",
       "            </div>\n",
       "        "
      ],
      "text/plain": [
       "<pyspark.sql.session.SparkSession at 0x7df8aada9810>"
      ]
     },
     "execution_count": 36,
     "metadata": {},
     "output_type": "execute_result"
    }
   ],
   "source": [
    "spark"
   ]
  },
  {
   "cell_type": "code",
   "execution_count": 37,
   "id": "8605b454-478a-4734-95fe-ea6f47b5e192",
   "metadata": {},
   "outputs": [
    {
     "name": "stdout",
     "output_type": "stream",
     "text": [
      "################################################################################\n",
      "Use PySpark DataFrame API to do the transformations\n",
      "################################################################################\n",
      "====================== Results ======================\n",
      "Total purchase amount by Gender:\n",
      "Gender_Binary: 1, Total_Purchase_Amount: 24599.89005279541\n",
      "Gender_Binary: 0, Total_Purchase_Amount: 28215.77996635437\n",
      "Average purchase amount by Age group:\n",
      "Age_Group: 18-30, Average_Purchase_Amount: 570.8131050899111\n",
      "Age_Group: 41-50, Average_Purchase_Amount: 493.946000289917\n",
      "Age_Group: 31-40, Average_Purchase_Amount: 555.2423526539523\n",
      "Age_Group: 51-60, Average_Purchase_Amount: 494.51882250168745\n",
      "Age_Group: 61-70, Average_Purchase_Amount: 533.576874256134\n",
      "\n",
      "====================== Data Preview ======================\n",
      "Final cleaned data:\n",
      "+-----------+----------+---------+---+-------------+------------------+-------------+\n",
      "|Customer_ID|First_Name|Last_Name|Age|Gender_Binary|   Purchase_Amount|Purchase_Date|\n",
      "+-----------+----------+---------+---+-------------+------------------+-------------+\n",
      "|         35|     Grace| Williams| 58|            1|139.00999450683594|   2024-04-23|\n",
      "|         93|       Bob|Rodriguez| 26|            1| 891.4600219726562|   2024-01-22|\n",
      "|         58|     Alice|    Jones| 50|            1| 397.8900146484375|   2023-10-04|\n",
      "|         97|       Ivy|    Brown| 21|            1|465.45001220703125|   2023-09-06|\n",
      "|         25|     David|  Johnson| 41|            0| 964.0399780273438|   2023-12-30|\n",
      "|         76|     David|Rodriguez| 23|            1| 212.2899932861328|   2024-03-16|\n",
      "|         33|     Grace|Rodriguez| 43|            1| 366.4200134277344|   2023-07-30|\n",
      "|         72|     Frank|   Miller| 66|            0| 932.3599853515625|   2024-02-19|\n",
      "|         18|      Jack| Martinez| 64|            0| 831.7999877929688|   2023-11-07|\n",
      "|         83|     Alice| Martinez| 41|            0| 185.8300018310547|   2024-02-20|\n",
      "+-----------+----------+---------+---+-------------+------------------+-------------+\n",
      "only showing top 10 rows\n",
      "\n",
      "Total purchase by gender:\n",
      "+-------------+---------------------+\n",
      "|Gender_Binary|Total_Purchase_Amount|\n",
      "+-------------+---------------------+\n",
      "|            1|    24599.89005279541|\n",
      "|            0|    28215.77996635437|\n",
      "+-------------+---------------------+\n",
      "\n",
      "Average purchase by age group:\n",
      "+---------+-----------------------+\n",
      "|Age_Group|Average_Purchase_Amount|\n",
      "+---------+-----------------------+\n",
      "|    18-30|      570.8131050899111|\n",
      "|    41-50|       493.946000289917|\n",
      "|    31-40|      555.2423526539523|\n",
      "|    51-60|     494.51882250168745|\n",
      "|    61-70|       533.576874256134|\n",
      "+---------+-----------------------+\n",
      "\n"
     ]
    }
   ],
   "source": [
    "print(\n",
    "    \"################################################################################\"\n",
    ")\n",
    "print(\"Use PySpark DataFrame API to do the transformations\")\n",
    "print(\n",
    "    \"################################################################################\"\n",
    ")\n",
    "\n",
    "from pyspark.sql import SparkSession\n",
    "from pyspark.sql.functions import col, coalesce, lit, when, split, sum as spark_sum, avg, regexp_replace\n",
    "from pyspark.sql.types import StructType, StructField, IntegerType, StringType, FloatType, DateType\n",
    "\n",
    "schema = StructType([\n",
    "    StructField(\"Customer_ID\", IntegerType(), True),\n",
    "    StructField(\"Customer_Name\", StringType(), True),\n",
    "    StructField(\"Age\", IntegerType(), True),\n",
    "    StructField(\"Gender\", StringType(), True),\n",
    "    StructField(\"Purchase_Amount\", FloatType(), True),\n",
    "    StructField(\"Purchase_Date\", DateType(), True)\n",
    "])\n",
    "\n",
    "# Read data from CSV file into DataFrame\n",
    "data = spark.read \\\n",
    "    .option(\"header\", \"true\") \\\n",
    "    .option(\"inferSchema\", \"false\") \\\n",
    "    .schema(schema) \\\n",
    "    .csv(\"./sample_data.csv\")\n",
    "\n",
    "# Question: How do you remove duplicate rows based on customer ID in PySpark?\n",
    "data_unique = data.dropDuplicates()\n",
    "\n",
    "# Question: How do you handle missing values by replacing them with 0 in PySpark?\n",
    "data_cleaned_missing = data_unique.select(\n",
    "    col(\"Customer_ID\"),\n",
    "    col(\"Customer_Name\"),\n",
    "    coalesce(col(\"Age\"), lit(0)).alias(\"Age\"),\n",
    "    col(\"Gender\"),\n",
    "    coalesce(col(\"Purchase_Amount\"), lit(0.0)).alias(\"Purchase_Amount\"),\n",
    "    col(\"Purchase_Date\")\n",
    ")\n",
    "\n",
    "# Question: How do you remove outliers (e.g., age > 100 or purchase amount > 1000) in PySpark?\n",
    "data_cleaned_outliers = data_cleaned_missing.filter(\n",
    "    (col(\"Age\") <= 100) & (col(\"Purchase_Amount\") <= 1000)\n",
    ")\n",
    "\n",
    "# Question: How do you convert the Gender column to a binary format (0 for Female, 1 for Male) in PySpark?\n",
    "data_cleaned_gender = data_cleaned_outliers.withColumn(\n",
    "    \"Gender_Binary\",\n",
    "    when(col(\"Gender\") == \"Female\", 0).otherwise(1)\n",
    ")\n",
    "\n",
    "# Question: How do you split the Customer_Name column into separate First_Name and Last_Name columns in PySpark?\n",
    "data_cleaned = data_cleaned_gender.select(\n",
    "    col(\"Customer_ID\"),\n",
    "    split(col(\"Customer_Name\"), \" \").getItem(0).alias(\"First_Name\"),\n",
    "    split(col(\"Customer_Name\"), \" \").getItem(1).alias(\"Last_Name\"),\n",
    "    col(\"Age\"),\n",
    "    col(\"Gender_Binary\"),\n",
    "    col(\"Purchase_Amount\"),\n",
    "    col(\"Purchase_Date\")\n",
    ")\n",
    "\n",
    "# Question: How do you calculate the total purchase amount by Gender in PySpark?\n",
    "total_purchase_by_gender = data_cleaned_gender.groupBy(\"Gender_Binary\") \\\n",
    "    .agg(spark_sum(\"Purchase_Amount\").alias(\"Total_Purchase_Amount\")) \\\n",
    "    .collect()\n",
    "\n",
    "# Question: How do you calculate the average purchase amount by Age group in PySpark?\n",
    "average_purchase_by_age_group = data_cleaned.withColumn(\n",
    "    \"Age_Group\",\n",
    "    when((col(\"Age\") >= 18) & (col(\"Age\") <= 30), \"18-30\")\n",
    "    .when((col(\"Age\") >= 31) & (col(\"Age\") <= 40), \"31-40\")\n",
    "    .when((col(\"Age\") >= 41) & (col(\"Age\") <= 50), \"41-50\")\n",
    "    .when((col(\"Age\") >= 51) & (col(\"Age\") <= 60), \"51-60\")\n",
    "    .otherwise(\"61-70\")\n",
    ").groupBy(\"Age_Group\") \\\n",
    "    .agg(avg(\"Purchase_Amount\").alias(\"Average_Purchase_Amount\")) \\\n",
    "    .collect()\n",
    "\n",
    "# Question: How do you print the results for total purchase amount by Gender and average purchase amount by Age group in PySpark?\n",
    "print(\"====================== Results ======================\")\n",
    "print(\"Total purchase amount by Gender:\")\n",
    "for row in total_purchase_by_gender:\n",
    "    print(f\"Gender_Binary: {row['Gender_Binary']}, Total_Purchase_Amount: {row['Total_Purchase_Amount']}\")\n",
    "\n",
    "print(\"Average purchase amount by Age group:\")\n",
    "for row in average_purchase_by_age_group:\n",
    "    print(f\"Age_Group: {row['Age_Group']}, Average_Purchase_Amount: {row['Average_Purchase_Amount']}\")\n",
    "\n",
    "# Optional: Show DataFrame contents for verification\n",
    "print(\"\\n====================== Data Preview ======================\")\n",
    "print(\"Final cleaned data:\")\n",
    "data_cleaned.show(10)\n",
    "\n",
    "print(\"Total purchase by gender:\")\n",
    "data_cleaned_gender.groupBy(\"Gender_Binary\") \\\n",
    "    .agg(spark_sum(\"Purchase_Amount\").alias(\"Total_Purchase_Amount\")) \\\n",
    "    .show()\n",
    "\n",
    "print(\"Average purchase by age group:\")\n",
    "data_cleaned.withColumn(\n",
    "    \"Age_Group\",\n",
    "    when((col(\"Age\") >= 18) & (col(\"Age\") <= 30), \"18-30\")\n",
    "    .when((col(\"Age\") >= 31) & (col(\"Age\") <= 40), \"31-40\")\n",
    "    .when((col(\"Age\") >= 41) & (col(\"Age\") <= 50), \"41-50\")\n",
    "    .when((col(\"Age\") >= 51) & (col(\"Age\") <= 60), \"51-60\")\n",
    "    .otherwise(\"61-70\")\n",
    ").groupBy(\"Age_Group\") \\\n",
    "    .agg(avg(\"Purchase_Amount\").alias(\"Average_Purchase_Amount\")) \\\n",
    "    .show()\n"
   ]
  },
  {
   "cell_type": "code",
   "execution_count": null,
   "id": "fe78d029-d7a8-47a3-ad4c-f9817fa67746",
   "metadata": {},
   "outputs": [],
   "source": []
  }
 ],
 "metadata": {
  "kernelspec": {
   "display_name": "Python 3 (ipykernel)",
   "language": "python",
   "name": "python3"
  },
  "language_info": {
   "codemirror_mode": {
    "name": "ipython",
    "version": 3
   },
   "file_extension": ".py",
   "mimetype": "text/x-python",
   "name": "python",
   "nbconvert_exporter": "python",
   "pygments_lexer": "ipython3",
   "version": "3.10.16"
  }
 },
 "nbformat": 4,
 "nbformat_minor": 5
}
